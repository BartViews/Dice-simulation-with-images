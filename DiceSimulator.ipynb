{
  "nbformat": 4,
  "nbformat_minor": 0,
  "metadata": {
    "colab": {
      "name": "DiceSimulator.ipynb",
      "provenance": [],
      "authorship_tag": "ABX9TyPGAnAf9uadXGBnY+rJSaPD",
      "include_colab_link": true
    },
    "kernelspec": {
      "display_name": "Python 3",
      "name": "python3"
    },
    "language_info": {
      "name": "python"
    }
  },
  "cells": [
    {
      "cell_type": "markdown",
      "metadata": {
        "id": "view-in-github",
        "colab_type": "text"
      },
      "source": [
        "<a href=\"https://colab.research.google.com/github/BartViews/Dice-simulation-with-images/blob/main/DiceSimulator.ipynb\" target=\"_parent\"><img src=\"https://colab.research.google.com/assets/colab-badge.svg\" alt=\"Open In Colab\"/></a>"
      ]
    },
    {
      "cell_type": "markdown",
      "metadata": {
        "id": "N-vYvuLP7U9C"
      },
      "source": [
        "# Quick Dice Simulator with image return"
      ]
    },
    {
      "cell_type": "code",
      "metadata": {
        "colab": {
          "base_uri": "https://localhost:8080/",
          "height": 552
        },
        "id": "5d2weRlF7KPM",
        "outputId": "f0213699-5fc3-465d-8142-d61096e0039f"
      },
      "source": [
        "import random\n",
        "from IPython.display import display, Image\n",
        "\n",
        "\n",
        "while True:\n",
        "  dice = random.randrange(1,6)\n",
        "  print(dice) #validation\n",
        "  if dice == 1:\n",
        "    display(Image(filename='01.png'))\n",
        "  elif dice == 2:\n",
        "    display(Image(filename='02.png'))\n",
        "  elif dice == 3:\n",
        "    display(Image(filename='03.png'))\n",
        "  elif dice == 4:\n",
        "    display(Image(filename='04.png'))\n",
        "  elif dice == 5:\n",
        "    display(Image(filename='05.png'))\n",
        "  elif dice == 6:\n",
        "    display(Image(filename='06.png'))\n",
        "  while True:\n",
        "    cont = input('Would you like to reroll? Y/N')\n",
        "    if cont == 'Y' or cont == 'yes' or cont == 'y':\n",
        "      break\n",
        "    else:\n",
        "      print('You rolled: ', dice)\n"
      ],
      "execution_count": null,
      "outputs": [
        {
          "output_type": "stream",
          "text": [
            "5\n"
          ],
          "name": "stdout"
        },
        {
          "output_type": "display_data",
          "data": {
            "image/png": "[encoded data removed]",
            "text/plain": [
              "<IPython.core.display.Image object>"
            ]
          },
          "metadata": {
            "tags": []
          }
        },
        {
          "output_type": "stream",
          "text": [
            "4\n"
          ],
          "name": "stdout"
        },
        {
          "output_type": "display_data",
          "data": {
            "image/png": "[encoded data removed]",
            "text/plain": [
              "<IPython.core.display.Image object>"
            ]
          },
          "metadata": {
            "tags": []
          }
        },
        {
          "output_type": "stream",
          "text": [
            "You rolled:  4\n"
          ],
          "name": "stdout"
        }
      ]
    }
  ]
}